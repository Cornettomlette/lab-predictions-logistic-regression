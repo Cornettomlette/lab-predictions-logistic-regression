{
 "cells": [
  {
   "cell_type": "markdown",
   "metadata": {},
   "source": [
    "# Lab | Making predictions with logistic regression\n",
    "In this lab, you will be using the Sakila database of movie rentals.\n",
    "\n",
    "In order to optimize our inventory, we would like to know which films will be rented next month and we are asked to create a model to predict it.\n",
    "\n",
    "## Instructions\n",
    "    1) Create a query or queries to extract the information you think may be relevant for building the prediction model.  It should include some film features and some rental features.\n",
    "    2) Read the data into a Pandas dataframe.\n",
    "    3) Analyze extracted features and transform them. You may need to encode some categorical variables, or scale numerical variables.\n",
    "    4) Create a logistic regression model to predict this variable from the cleaned data.\n",
    "    5) Evaluate the results."
   ]
  },
  {
   "cell_type": "code",
   "execution_count": 31,
   "metadata": {},
   "outputs": [],
   "source": [
    "import getpass\n",
    "import pandas as pd\n",
    "import pymysql\n",
    "import seaborn as sns\n",
    "import sqlalchemy\n",
    "\n",
    "import matplotlib\n",
    "import matplotlib.pyplot as plt\n",
    "import seaborn as sns\n",
    "import numpy as np\n",
    "\n",
    "from scipy.stats import normaltest\n",
    "from sklearn.linear_model import LogisticRegression\n",
    "from sklearn.metrics import confusion_matrix, accuracy_score, classification_report\n",
    "from sklearn.model_selection import train_test_split\n",
    "from sklearn.metrics import confusion_matrix\n",
    "from sklearn.metrics import plot_confusion_matrix\n",
    "from sklearn.metrics import cohen_kappa_score\n",
    "from sklearn.preprocessing import Normalizer, StandardScaler\n",
    "from sklearn.metrics import classification_report\n",
    "from imblearn.over_sampling import SMOTE\n",
    "from collections import Counter"
   ]
  },
  {
   "cell_type": "code",
   "execution_count": 2,
   "metadata": {},
   "outputs": [
    {
     "name": "stdout",
     "output_type": "stream",
     "text": [
      "········\n"
     ]
    },
    {
     "data": {
      "text/plain": [
       "<sqlalchemy.engine.result.ResultProxy at 0x7ff79b09f760>"
      ]
     },
     "execution_count": 2,
     "metadata": {},
     "output_type": "execute_result"
    }
   ],
   "source": [
    "password = getpass.getpass()\n",
    "connection_string = 'mysql+pymysql://annamst:' + password + '@localhost/bank'\n",
    "engine = sqlalchemy.create_engine(connection_string)\n",
    "engine.execute(\"USE sakila_copy_lab\")"
   ]
  },
  {
   "cell_type": "markdown",
   "metadata": {},
   "source": [
    "### Getting the data from SQL queries. \n",
    "#### I already joined all needed queries in form of views in MySQL, so now I need only one query of that join to export to Python."
   ]
  },
  {
   "cell_type": "code",
   "execution_count": 3,
   "metadata": {
    "scrolled": true
   },
   "outputs": [
    {
     "data": {
      "text/html": [
       "<div>\n",
       "<style scoped>\n",
       "    .dataframe tbody tr th:only-of-type {\n",
       "        vertical-align: middle;\n",
       "    }\n",
       "\n",
       "    .dataframe tbody tr th {\n",
       "        vertical-align: top;\n",
       "    }\n",
       "\n",
       "    .dataframe thead th {\n",
       "        text-align: right;\n",
       "    }\n",
       "</style>\n",
       "<table border=\"1\" class=\"dataframe\">\n",
       "  <thead>\n",
       "    <tr style=\"text-align: right;\">\n",
       "      <th></th>\n",
       "      <th>rating</th>\n",
       "      <th>length</th>\n",
       "      <th>copies_available</th>\n",
       "      <th>category_name</th>\n",
       "      <th>count_popular_actors</th>\n",
       "      <th>times_rented_last_month</th>\n",
       "      <th>if_film_rented</th>\n",
       "    </tr>\n",
       "  </thead>\n",
       "  <tbody>\n",
       "    <tr>\n",
       "      <th>0</th>\n",
       "      <td>PG</td>\n",
       "      <td>86</td>\n",
       "      <td>8</td>\n",
       "      <td>Documentary</td>\n",
       "      <td>16.0</td>\n",
       "      <td>1</td>\n",
       "      <td>YES</td>\n",
       "    </tr>\n",
       "    <tr>\n",
       "      <th>1</th>\n",
       "      <td>G</td>\n",
       "      <td>48</td>\n",
       "      <td>3</td>\n",
       "      <td>Horror</td>\n",
       "      <td>6.0</td>\n",
       "      <td>0</td>\n",
       "      <td>NO</td>\n",
       "    </tr>\n",
       "    <tr>\n",
       "      <th>2</th>\n",
       "      <td>NC-17</td>\n",
       "      <td>50</td>\n",
       "      <td>4</td>\n",
       "      <td>Documentary</td>\n",
       "      <td>4.0</td>\n",
       "      <td>0</td>\n",
       "      <td>YES</td>\n",
       "    </tr>\n",
       "    <tr>\n",
       "      <th>3</th>\n",
       "      <td>G</td>\n",
       "      <td>117</td>\n",
       "      <td>7</td>\n",
       "      <td>Horror</td>\n",
       "      <td>14.0</td>\n",
       "      <td>1</td>\n",
       "      <td>YES</td>\n",
       "    </tr>\n",
       "    <tr>\n",
       "      <th>4</th>\n",
       "      <td>G</td>\n",
       "      <td>130</td>\n",
       "      <td>3</td>\n",
       "      <td>Family</td>\n",
       "      <td>3.0</td>\n",
       "      <td>1</td>\n",
       "      <td>YES</td>\n",
       "    </tr>\n",
       "  </tbody>\n",
       "</table>\n",
       "</div>"
      ],
      "text/plain": [
       "  rating  length  copies_available category_name  count_popular_actors  \\\n",
       "0     PG      86                 8   Documentary                  16.0   \n",
       "1      G      48                 3        Horror                   6.0   \n",
       "2  NC-17      50                 4   Documentary                   4.0   \n",
       "3      G     117                 7        Horror                  14.0   \n",
       "4      G     130                 3        Family                   3.0   \n",
       "\n",
       "   times_rented_last_month if_film_rented  \n",
       "0                        1            YES  \n",
       "1                        0             NO  \n",
       "2                        0            YES  \n",
       "3                        1            YES  \n",
       "4                        1            YES  "
      ]
     },
     "execution_count": 3,
     "metadata": {},
     "output_type": "execute_result"
    }
   ],
   "source": [
    "query = \"\"\"SELECT rating, length, copies_available, category_name, count_popular_actors, times_rented_last_month, if_film_rented from rating\n",
    "INNER JOIN length ON rating.film_id = length.film_id\n",
    "INNER JOIN number_copies ON length.film_id = number_copies.film_id\n",
    "INNER JOIN category_of_film ON number_copies.film_id = category_of_film.film_id\n",
    "INNER JOIN film_count_pop_actors ON category_of_film.film_id = film_count_pop_actors.film_id \n",
    "INNER JOIN num_rentals_last_mo ON film_count_pop_actors.film_id = num_rentals_last_mo.film_id \n",
    "INNER JOIN rented_this_month_y_n ON  num_rentals_last_mo.film_id = rented_this_month_y_n.film_id\n",
    "ORDER BY rating.film_id\"\"\"\n",
    "\n",
    "data = pd.read_sql_query(query, engine)\n",
    "data.head()"
   ]
  },
  {
   "cell_type": "markdown",
   "metadata": {},
   "source": [
    "### Data exploration and checking for nulls"
   ]
  },
  {
   "cell_type": "code",
   "execution_count": 4,
   "metadata": {},
   "outputs": [
    {
     "name": "stdout",
     "output_type": "stream",
     "text": [
      "<class 'pandas.core.frame.DataFrame'>\n",
      "RangeIndex: 955 entries, 0 to 954\n",
      "Data columns (total 7 columns):\n",
      " #   Column                   Non-Null Count  Dtype  \n",
      "---  ------                   --------------  -----  \n",
      " 0   rating                   955 non-null    object \n",
      " 1   length                   955 non-null    int64  \n",
      " 2   copies_available         955 non-null    int64  \n",
      " 3   category_name            955 non-null    object \n",
      " 4   count_popular_actors     955 non-null    float64\n",
      " 5   times_rented_last_month  955 non-null    int64  \n",
      " 6   if_film_rented           955 non-null    object \n",
      "dtypes: float64(1), int64(3), object(3)\n",
      "memory usage: 52.4+ KB\n"
     ]
    }
   ],
   "source": [
    "data.info()"
   ]
  },
  {
   "cell_type": "markdown",
   "metadata": {},
   "source": [
    "#### The info shows that there is no null values in the data and the length of every column is the same."
   ]
  },
  {
   "cell_type": "code",
   "execution_count": 5,
   "metadata": {},
   "outputs": [
    {
     "data": {
      "text/plain": [
       "YES    897\n",
       "NO      58\n",
       "Name: if_film_rented, dtype: int64"
      ]
     },
     "execution_count": 5,
     "metadata": {},
     "output_type": "execute_result"
    }
   ],
   "source": [
    "data['if_film_rented'].value_counts()"
   ]
  },
  {
   "cell_type": "markdown",
   "metadata": {},
   "source": [
    "#### There is a huge imbalance in the representation of the two categories."
   ]
  },
  {
   "cell_type": "code",
   "execution_count": 6,
   "metadata": {},
   "outputs": [
    {
     "data": {
      "text/plain": [
       "PG-13    213\n",
       "NC-17    202\n",
       "R        187\n",
       "PG       183\n",
       "G        170\n",
       "Name: rating, dtype: int64"
      ]
     },
     "execution_count": 6,
     "metadata": {},
     "output_type": "execute_result"
    }
   ],
   "source": [
    "# checking unique values for categorical variables to check for duality due to misspellings etc\n",
    "data['rating'].value_counts()"
   ]
  },
  {
   "cell_type": "code",
   "execution_count": 7,
   "metadata": {},
   "outputs": [
    {
     "data": {
      "text/plain": [
       "Sports         72\n",
       "Family         67\n",
       "Foreign        67\n",
       "Animation      64\n",
       "Documentary    63\n",
       "Action         61\n",
       "Drama          60\n",
       "New            60\n",
       "Sci-Fi         59\n",
       "Games          58\n",
       "Children       58\n",
       "Comedy         56\n",
       "Classics       54\n",
       "Horror         53\n",
       "Travel         52\n",
       "Music          51\n",
       "Name: category_name, dtype: int64"
      ]
     },
     "execution_count": 7,
     "metadata": {},
     "output_type": "execute_result"
    }
   ],
   "source": [
    "data['category_name'].value_counts()"
   ]
  },
  {
   "cell_type": "markdown",
   "metadata": {},
   "source": [
    "#### It seems that everything is fine with categorical columns, no need for data cleaning."
   ]
  },
  {
   "cell_type": "code",
   "execution_count": 8,
   "metadata": {},
   "outputs": [
    {
     "data": {
      "text/html": [
       "<div>\n",
       "<style scoped>\n",
       "    .dataframe tbody tr th:only-of-type {\n",
       "        vertical-align: middle;\n",
       "    }\n",
       "\n",
       "    .dataframe tbody tr th {\n",
       "        vertical-align: top;\n",
       "    }\n",
       "\n",
       "    .dataframe thead th {\n",
       "        text-align: right;\n",
       "    }\n",
       "</style>\n",
       "<table border=\"1\" class=\"dataframe\">\n",
       "  <thead>\n",
       "    <tr style=\"text-align: right;\">\n",
       "      <th></th>\n",
       "      <th>length</th>\n",
       "      <th>copies_available</th>\n",
       "      <th>count_popular_actors</th>\n",
       "      <th>times_rented_last_month</th>\n",
       "    </tr>\n",
       "  </thead>\n",
       "  <tbody>\n",
       "    <tr>\n",
       "      <th>count</th>\n",
       "      <td>955.000000</td>\n",
       "      <td>955.000000</td>\n",
       "      <td>955.000000</td>\n",
       "      <td>955.000000</td>\n",
       "    </tr>\n",
       "    <tr>\n",
       "      <th>mean</th>\n",
       "      <td>115.363351</td>\n",
       "      <td>4.783246</td>\n",
       "      <td>9.102618</td>\n",
       "      <td>0.872251</td>\n",
       "    </tr>\n",
       "    <tr>\n",
       "      <th>std</th>\n",
       "      <td>40.430401</td>\n",
       "      <td>1.817724</td>\n",
       "      <td>7.640778</td>\n",
       "      <td>0.905616</td>\n",
       "    </tr>\n",
       "    <tr>\n",
       "      <th>min</th>\n",
       "      <td>46.000000</td>\n",
       "      <td>2.000000</td>\n",
       "      <td>0.000000</td>\n",
       "      <td>0.000000</td>\n",
       "    </tr>\n",
       "    <tr>\n",
       "      <th>25%</th>\n",
       "      <td>80.000000</td>\n",
       "      <td>3.000000</td>\n",
       "      <td>4.000000</td>\n",
       "      <td>0.000000</td>\n",
       "    </tr>\n",
       "    <tr>\n",
       "      <th>50%</th>\n",
       "      <td>114.000000</td>\n",
       "      <td>5.000000</td>\n",
       "      <td>7.000000</td>\n",
       "      <td>1.000000</td>\n",
       "    </tr>\n",
       "    <tr>\n",
       "      <th>75%</th>\n",
       "      <td>149.500000</td>\n",
       "      <td>6.000000</td>\n",
       "      <td>12.000000</td>\n",
       "      <td>1.000000</td>\n",
       "    </tr>\n",
       "    <tr>\n",
       "      <th>max</th>\n",
       "      <td>185.000000</td>\n",
       "      <td>8.000000</td>\n",
       "      <td>56.000000</td>\n",
       "      <td>5.000000</td>\n",
       "    </tr>\n",
       "  </tbody>\n",
       "</table>\n",
       "</div>"
      ],
      "text/plain": [
       "           length  copies_available  count_popular_actors  \\\n",
       "count  955.000000        955.000000            955.000000   \n",
       "mean   115.363351          4.783246              9.102618   \n",
       "std     40.430401          1.817724              7.640778   \n",
       "min     46.000000          2.000000              0.000000   \n",
       "25%     80.000000          3.000000              4.000000   \n",
       "50%    114.000000          5.000000              7.000000   \n",
       "75%    149.500000          6.000000             12.000000   \n",
       "max    185.000000          8.000000             56.000000   \n",
       "\n",
       "       times_rented_last_month  \n",
       "count               955.000000  \n",
       "mean                  0.872251  \n",
       "std                   0.905616  \n",
       "min                   0.000000  \n",
       "25%                   0.000000  \n",
       "50%                   1.000000  \n",
       "75%                   1.000000  \n",
       "max                   5.000000  "
      ]
     },
     "execution_count": 8,
     "metadata": {},
     "output_type": "execute_result"
    }
   ],
   "source": [
    "# Checking the numerical data for outliers, need for scaling, etc\n",
    "\n",
    "data.describe()"
   ]
  },
  {
   "cell_type": "code",
   "execution_count": 9,
   "metadata": {},
   "outputs": [
    {
     "data": {
      "text/html": [
       "<div>\n",
       "<style scoped>\n",
       "    .dataframe tbody tr th:only-of-type {\n",
       "        vertical-align: middle;\n",
       "    }\n",
       "\n",
       "    .dataframe tbody tr th {\n",
       "        vertical-align: top;\n",
       "    }\n",
       "\n",
       "    .dataframe thead th {\n",
       "        text-align: right;\n",
       "    }\n",
       "</style>\n",
       "<table border=\"1\" class=\"dataframe\">\n",
       "  <thead>\n",
       "    <tr style=\"text-align: right;\">\n",
       "      <th></th>\n",
       "      <th>length</th>\n",
       "      <th>copies_available</th>\n",
       "      <th>count_popular_actors</th>\n",
       "      <th>times_rented_last_month</th>\n",
       "    </tr>\n",
       "  </thead>\n",
       "  <tbody>\n",
       "    <tr>\n",
       "      <th>length</th>\n",
       "      <td>1.000000</td>\n",
       "      <td>-0.037210</td>\n",
       "      <td>-0.021861</td>\n",
       "      <td>-0.011041</td>\n",
       "    </tr>\n",
       "    <tr>\n",
       "      <th>copies_available</th>\n",
       "      <td>-0.037210</td>\n",
       "      <td>1.000000</td>\n",
       "      <td>0.470511</td>\n",
       "      <td>0.328925</td>\n",
       "    </tr>\n",
       "    <tr>\n",
       "      <th>count_popular_actors</th>\n",
       "      <td>-0.021861</td>\n",
       "      <td>0.470511</td>\n",
       "      <td>1.000000</td>\n",
       "      <td>0.107179</td>\n",
       "    </tr>\n",
       "    <tr>\n",
       "      <th>times_rented_last_month</th>\n",
       "      <td>-0.011041</td>\n",
       "      <td>0.328925</td>\n",
       "      <td>0.107179</td>\n",
       "      <td>1.000000</td>\n",
       "    </tr>\n",
       "  </tbody>\n",
       "</table>\n",
       "</div>"
      ],
      "text/plain": [
       "                           length  copies_available  count_popular_actors  \\\n",
       "length                   1.000000         -0.037210             -0.021861   \n",
       "copies_available        -0.037210          1.000000              0.470511   \n",
       "count_popular_actors    -0.021861          0.470511              1.000000   \n",
       "times_rented_last_month -0.011041          0.328925              0.107179   \n",
       "\n",
       "                         times_rented_last_month  \n",
       "length                                 -0.011041  \n",
       "copies_available                        0.328925  \n",
       "count_popular_actors                    0.107179  \n",
       "times_rented_last_month                 1.000000  "
      ]
     },
     "execution_count": 9,
     "metadata": {},
     "output_type": "execute_result"
    }
   ],
   "source": [
    "data.corr()"
   ]
  },
  {
   "cell_type": "markdown",
   "metadata": {},
   "source": [
    "#### There is no need for scaling data, so we will use that data to train a model without transformations. There is also no need of deleting columns, because we don't see any significant corelation between columns."
   ]
  },
  {
   "cell_type": "markdown",
   "metadata": {},
   "source": [
    "### Getting the numerical columns"
   ]
  },
  {
   "cell_type": "code",
   "execution_count": 10,
   "metadata": {},
   "outputs": [
    {
     "data": {
      "text/html": [
       "<div>\n",
       "<style scoped>\n",
       "    .dataframe tbody tr th:only-of-type {\n",
       "        vertical-align: middle;\n",
       "    }\n",
       "\n",
       "    .dataframe tbody tr th {\n",
       "        vertical-align: top;\n",
       "    }\n",
       "\n",
       "    .dataframe thead th {\n",
       "        text-align: right;\n",
       "    }\n",
       "</style>\n",
       "<table border=\"1\" class=\"dataframe\">\n",
       "  <thead>\n",
       "    <tr style=\"text-align: right;\">\n",
       "      <th></th>\n",
       "      <th>length</th>\n",
       "      <th>copies_available</th>\n",
       "      <th>count_popular_actors</th>\n",
       "      <th>times_rented_last_month</th>\n",
       "    </tr>\n",
       "  </thead>\n",
       "  <tbody>\n",
       "    <tr>\n",
       "      <th>0</th>\n",
       "      <td>86</td>\n",
       "      <td>8</td>\n",
       "      <td>16.0</td>\n",
       "      <td>1</td>\n",
       "    </tr>\n",
       "    <tr>\n",
       "      <th>1</th>\n",
       "      <td>48</td>\n",
       "      <td>3</td>\n",
       "      <td>6.0</td>\n",
       "      <td>0</td>\n",
       "    </tr>\n",
       "    <tr>\n",
       "      <th>2</th>\n",
       "      <td>50</td>\n",
       "      <td>4</td>\n",
       "      <td>4.0</td>\n",
       "      <td>0</td>\n",
       "    </tr>\n",
       "    <tr>\n",
       "      <th>3</th>\n",
       "      <td>117</td>\n",
       "      <td>7</td>\n",
       "      <td>14.0</td>\n",
       "      <td>1</td>\n",
       "    </tr>\n",
       "    <tr>\n",
       "      <th>4</th>\n",
       "      <td>130</td>\n",
       "      <td>3</td>\n",
       "      <td>3.0</td>\n",
       "      <td>1</td>\n",
       "    </tr>\n",
       "  </tbody>\n",
       "</table>\n",
       "</div>"
      ],
      "text/plain": [
       "   length  copies_available  count_popular_actors  times_rented_last_month\n",
       "0      86                 8                  16.0                        1\n",
       "1      48                 3                   6.0                        0\n",
       "2      50                 4                   4.0                        0\n",
       "3     117                 7                  14.0                        1\n",
       "4     130                 3                   3.0                        1"
      ]
     },
     "execution_count": 10,
     "metadata": {},
     "output_type": "execute_result"
    }
   ],
   "source": [
    "numcols = data.select_dtypes(np.number)\n",
    "numcols.head()"
   ]
  },
  {
   "cell_type": "markdown",
   "metadata": {},
   "source": [
    "### Categorical columns"
   ]
  },
  {
   "cell_type": "code",
   "execution_count": 11,
   "metadata": {},
   "outputs": [
    {
     "name": "stdout",
     "output_type": "stream",
     "text": [
      "The categorical columns are:  ['rating', 'category_name', 'if_film_rented']\n",
      "========================================\n",
      "\n",
      "Frequency analysis of column:  rating\n",
      "\n",
      "Frequency analysis of column:  category_name\n",
      "\n",
      "Frequency analysis of column:  if_film_rented\n",
      "\n"
     ]
    },
    {
     "data": {
      "image/png": "[encoded data removed]",
      "text/plain": [
       "<Figure size 432x288 with 1 Axes>"
      ]
     },
     "metadata": {
      "needs_background": "light"
     },
     "output_type": "display_data"
    },
    {
     "data": {
      "image/png": "[encoded data removed]",
      "text/plain": [
       "<Figure size 432x288 with 1 Axes>"
      ]
     },
     "metadata": {
      "needs_background": "light"
     },
     "output_type": "display_data"
    },
    {
     "data": {
      "image/png": "[encoded data removed]",
      "text/plain": [
       "<Figure size 432x288 with 1 Axes>"
      ]
     },
     "metadata": {
      "needs_background": "light"
     },
     "output_type": "display_data"
    },
    {
     "data": {
      "text/plain": [
       "<Figure size 432x288 with 0 Axes>"
      ]
     },
     "metadata": {},
     "output_type": "display_data"
    }
   ],
   "source": [
    "# Checking all the categorical columns\n",
    "cols_cat = list(data.select_dtypes(include=['object']).columns)\n",
    "\n",
    "print(\"The categorical columns are: \",cols_cat)\n",
    "print(\"========================================\")\n",
    "print()\n",
    "\n",
    "for col in cols_cat:\n",
    "    print(\"Frequency analysis of column: \",col)\n",
    "    my_data = data[col].value_counts().reset_index()\n",
    "    ax = sns.barplot(x=col, y=\"index\", data = my_data).set_title(col.upper())\n",
    "    plt.figure()\n",
    "    print()"
   ]
  },
  {
   "cell_type": "markdown",
   "metadata": {},
   "source": [
    "### Dummifying categorical columns"
   ]
  },
  {
   "cell_type": "code",
   "execution_count": 12,
   "metadata": {},
   "outputs": [
    {
     "data": {
      "text/html": [
       "<div>\n",
       "<style scoped>\n",
       "    .dataframe tbody tr th:only-of-type {\n",
       "        vertical-align: middle;\n",
       "    }\n",
       "\n",
       "    .dataframe tbody tr th {\n",
       "        vertical-align: top;\n",
       "    }\n",
       "\n",
       "    .dataframe thead th {\n",
       "        text-align: right;\n",
       "    }\n",
       "</style>\n",
       "<table border=\"1\" class=\"dataframe\">\n",
       "  <thead>\n",
       "    <tr style=\"text-align: right;\">\n",
       "      <th></th>\n",
       "      <th>rating_G</th>\n",
       "      <th>rating_NC-17</th>\n",
       "      <th>rating_PG</th>\n",
       "      <th>rating_PG-13</th>\n",
       "      <th>rating_R</th>\n",
       "      <th>category_name_Action</th>\n",
       "      <th>category_name_Animation</th>\n",
       "      <th>category_name_Children</th>\n",
       "      <th>category_name_Classics</th>\n",
       "      <th>category_name_Comedy</th>\n",
       "      <th>...</th>\n",
       "      <th>category_name_Drama</th>\n",
       "      <th>category_name_Family</th>\n",
       "      <th>category_name_Foreign</th>\n",
       "      <th>category_name_Games</th>\n",
       "      <th>category_name_Horror</th>\n",
       "      <th>category_name_Music</th>\n",
       "      <th>category_name_New</th>\n",
       "      <th>category_name_Sci-Fi</th>\n",
       "      <th>category_name_Sports</th>\n",
       "      <th>category_name_Travel</th>\n",
       "    </tr>\n",
       "  </thead>\n",
       "  <tbody>\n",
       "    <tr>\n",
       "      <th>0</th>\n",
       "      <td>0</td>\n",
       "      <td>0</td>\n",
       "      <td>1</td>\n",
       "      <td>0</td>\n",
       "      <td>0</td>\n",
       "      <td>0</td>\n",
       "      <td>0</td>\n",
       "      <td>0</td>\n",
       "      <td>0</td>\n",
       "      <td>0</td>\n",
       "      <td>...</td>\n",
       "      <td>0</td>\n",
       "      <td>0</td>\n",
       "      <td>0</td>\n",
       "      <td>0</td>\n",
       "      <td>0</td>\n",
       "      <td>0</td>\n",
       "      <td>0</td>\n",
       "      <td>0</td>\n",
       "      <td>0</td>\n",
       "      <td>0</td>\n",
       "    </tr>\n",
       "    <tr>\n",
       "      <th>1</th>\n",
       "      <td>1</td>\n",
       "      <td>0</td>\n",
       "      <td>0</td>\n",
       "      <td>0</td>\n",
       "      <td>0</td>\n",
       "      <td>0</td>\n",
       "      <td>0</td>\n",
       "      <td>0</td>\n",
       "      <td>0</td>\n",
       "      <td>0</td>\n",
       "      <td>...</td>\n",
       "      <td>0</td>\n",
       "      <td>0</td>\n",
       "      <td>0</td>\n",
       "      <td>0</td>\n",
       "      <td>1</td>\n",
       "      <td>0</td>\n",
       "      <td>0</td>\n",
       "      <td>0</td>\n",
       "      <td>0</td>\n",
       "      <td>0</td>\n",
       "    </tr>\n",
       "    <tr>\n",
       "      <th>2</th>\n",
       "      <td>0</td>\n",
       "      <td>1</td>\n",
       "      <td>0</td>\n",
       "      <td>0</td>\n",
       "      <td>0</td>\n",
       "      <td>0</td>\n",
       "      <td>0</td>\n",
       "      <td>0</td>\n",
       "      <td>0</td>\n",
       "      <td>0</td>\n",
       "      <td>...</td>\n",
       "      <td>0</td>\n",
       "      <td>0</td>\n",
       "      <td>0</td>\n",
       "      <td>0</td>\n",
       "      <td>0</td>\n",
       "      <td>0</td>\n",
       "      <td>0</td>\n",
       "      <td>0</td>\n",
       "      <td>0</td>\n",
       "      <td>0</td>\n",
       "    </tr>\n",
       "    <tr>\n",
       "      <th>3</th>\n",
       "      <td>1</td>\n",
       "      <td>0</td>\n",
       "      <td>0</td>\n",
       "      <td>0</td>\n",
       "      <td>0</td>\n",
       "      <td>0</td>\n",
       "      <td>0</td>\n",
       "      <td>0</td>\n",
       "      <td>0</td>\n",
       "      <td>0</td>\n",
       "      <td>...</td>\n",
       "      <td>0</td>\n",
       "      <td>0</td>\n",
       "      <td>0</td>\n",
       "      <td>0</td>\n",
       "      <td>1</td>\n",
       "      <td>0</td>\n",
       "      <td>0</td>\n",
       "      <td>0</td>\n",
       "      <td>0</td>\n",
       "      <td>0</td>\n",
       "    </tr>\n",
       "    <tr>\n",
       "      <th>4</th>\n",
       "      <td>1</td>\n",
       "      <td>0</td>\n",
       "      <td>0</td>\n",
       "      <td>0</td>\n",
       "      <td>0</td>\n",
       "      <td>0</td>\n",
       "      <td>0</td>\n",
       "      <td>0</td>\n",
       "      <td>0</td>\n",
       "      <td>0</td>\n",
       "      <td>...</td>\n",
       "      <td>0</td>\n",
       "      <td>1</td>\n",
       "      <td>0</td>\n",
       "      <td>0</td>\n",
       "      <td>0</td>\n",
       "      <td>0</td>\n",
       "      <td>0</td>\n",
       "      <td>0</td>\n",
       "      <td>0</td>\n",
       "      <td>0</td>\n",
       "    </tr>\n",
       "  </tbody>\n",
       "</table>\n",
       "<p>5 rows × 21 columns</p>\n",
       "</div>"
      ],
      "text/plain": [
       "   rating_G  rating_NC-17  rating_PG  rating_PG-13  rating_R  \\\n",
       "0         0             0          1             0         0   \n",
       "1         1             0          0             0         0   \n",
       "2         0             1          0             0         0   \n",
       "3         1             0          0             0         0   \n",
       "4         1             0          0             0         0   \n",
       "\n",
       "   category_name_Action  category_name_Animation  category_name_Children  \\\n",
       "0                     0                        0                       0   \n",
       "1                     0                        0                       0   \n",
       "2                     0                        0                       0   \n",
       "3                     0                        0                       0   \n",
       "4                     0                        0                       0   \n",
       "\n",
       "   category_name_Classics  category_name_Comedy  ...  category_name_Drama  \\\n",
       "0                       0                     0  ...                    0   \n",
       "1                       0                     0  ...                    0   \n",
       "2                       0                     0  ...                    0   \n",
       "3                       0                     0  ...                    0   \n",
       "4                       0                     0  ...                    0   \n",
       "\n",
       "   category_name_Family  category_name_Foreign  category_name_Games  \\\n",
       "0                     0                      0                    0   \n",
       "1                     0                      0                    0   \n",
       "2                     0                      0                    0   \n",
       "3                     0                      0                    0   \n",
       "4                     1                      0                    0   \n",
       "\n",
       "   category_name_Horror  category_name_Music  category_name_New  \\\n",
       "0                     0                    0                  0   \n",
       "1                     1                    0                  0   \n",
       "2                     0                    0                  0   \n",
       "3                     1                    0                  0   \n",
       "4                     0                    0                  0   \n",
       "\n",
       "   category_name_Sci-Fi  category_name_Sports  category_name_Travel  \n",
       "0                     0                     0                     0  \n",
       "1                     0                     0                     0  \n",
       "2                     0                     0                     0  \n",
       "3                     0                     0                     0  \n",
       "4                     0                     0                     0  \n",
       "\n",
       "[5 rows x 21 columns]"
      ]
     },
     "metadata": {},
     "output_type": "display_data"
    },
    {
     "data": {
      "text/plain": [
       "(955, 21)"
      ]
     },
     "metadata": {},
     "output_type": "display_data"
    }
   ],
   "source": [
    "cat = data.select_dtypes(include = np.object)\n",
    "cat = cat.drop(['if_film_rented'], axis=1)\n",
    "objects_dummyfied = pd.get_dummies(cat)\n",
    "display(objects_dummyfied.head())\n",
    "display(objects_dummyfied.shape)"
   ]
  },
  {
   "cell_type": "markdown",
   "metadata": {},
   "source": [
    "### Concatenating numerical and categorical variables to get a full set of independent values."
   ]
  },
  {
   "cell_type": "code",
   "execution_count": 13,
   "metadata": {},
   "outputs": [],
   "source": [
    "X_independent = pd.concat([objects_dummyfied, numcols], axis = 1)"
   ]
  },
  {
   "cell_type": "markdown",
   "metadata": {},
   "source": [
    "### X/Y split"
   ]
  },
  {
   "cell_type": "code",
   "execution_count": 14,
   "metadata": {},
   "outputs": [],
   "source": [
    "y_dependent = data['if_film_rented']"
   ]
  },
  {
   "cell_type": "markdown",
   "metadata": {},
   "source": [
    "### Train-test split"
   ]
  },
  {
   "cell_type": "code",
   "execution_count": 15,
   "metadata": {},
   "outputs": [],
   "source": [
    "X_train, X_test, y_train, y_test = train_test_split(X_independent, y_dependent, test_size=0.3, random_state = 100)"
   ]
  },
  {
   "cell_type": "markdown",
   "metadata": {},
   "source": [
    "### Modeling and Model Validation"
   ]
  },
  {
   "cell_type": "code",
   "execution_count": 19,
   "metadata": {},
   "outputs": [
    {
     "name": "stdout",
     "output_type": "stream",
     "text": [
      "The accuracy of the logistic_regression model is: 0.94 \n"
     ]
    }
   ],
   "source": [
    "classification = LogisticRegression(random_state=0, solver='lbfgs',  max_iter=500).fit(X_train, y_train)\n",
    "y_pred = classification.predict(X_test)\n",
    "print(\"The accuracy of the logistic_regression model is: %4.2f \"% (classification.score(X_test, y_test)))"
   ]
  },
  {
   "cell_type": "code",
   "execution_count": 38,
   "metadata": {},
   "outputs": [
    {
     "name": "stdout",
     "output_type": "stream",
     "text": [
      "The accuracy of the model on test set is: 0.94 \n",
      "[[  0  17]\n",
      " [  0 270]]\n"
     ]
    },
    {
     "data": {
      "image/png": "[encoded data removed]",
      "text/plain": [
       "<Figure size 432x288 with 2 Axes>"
      ]
     },
     "metadata": {
      "needs_background": "light"
     },
     "output_type": "display_data"
    },
    {
     "name": "stdout",
     "output_type": "stream",
     "text": [
      "The Kappa of your model is: 0.00\n",
      "              precision    recall  f1-score   support\n",
      "\n",
      "         YES       0.94      1.00      0.97       270\n",
      "          NO       0.00      0.00      0.00        17\n",
      "\n",
      "    accuracy                           0.94       287\n",
      "   macro avg       0.47      0.50      0.48       287\n",
      "weighted avg       0.89      0.94      0.91       287\n",
      "\n"
     ]
    },
    {
     "name": "stderr",
     "output_type": "stream",
     "text": [
      "/home/annast/.local/lib/python3.8/site-packages/sklearn/metrics/_classification.py:1221: UndefinedMetricWarning: Precision and F-score are ill-defined and being set to 0.0 in labels with no predicted samples. Use `zero_division` parameter to control this behavior.\n",
      "  _warn_prf(average, modifier, msg_start, len(result))\n"
     ]
    }
   ],
   "source": [
    "print(\"The accuracy of the model on test set is: %4.2f \" % accuracy_score(y_test, y_pred))\n",
    "print(confusion_matrix(y_test, y_pred))\n",
    "plot_confusion_matrix(classification, X_test, y_test)  # doctest: +SKIP\n",
    "plt.show()  # doctest: +SKIP\n",
    "print(\"The Kappa of your model is: %4.2f\" % (cohen_kappa_score(y_test, y_pred)))\n",
    "print(classification_report(y_test, y_pred, labels=['YES','NO']))"
   ]
  },
  {
   "cell_type": "markdown",
   "metadata": {},
   "source": [
    "### Due to severe data imbalance in the dependent variable value counts, even though the accuracy of the model  is high - the model has never correcly predicted a NO value."
   ]
  },
  {
   "cell_type": "markdown",
   "metadata": {},
   "source": [
    "# But let's try to deal with data imbalance and improve the model!"
   ]
  },
  {
   "cell_type": "markdown",
   "metadata": {},
   "source": [
    "### 1) By scaling the numerical features"
   ]
  },
  {
   "cell_type": "code",
   "execution_count": 26,
   "metadata": {},
   "outputs": [],
   "source": [
    "transformer = StandardScaler().fit(numcols)\n",
    "scaled_num = transformer.transform(numcols)\n",
    "scaled_num = pd.DataFrame(scaled_num)"
   ]
  },
  {
   "cell_type": "code",
   "execution_count": 27,
   "metadata": {},
   "outputs": [],
   "source": [
    "X_independent = pd.concat([objects_dummyfied, scaled_num], axis = 1)"
   ]
  },
  {
   "cell_type": "code",
   "execution_count": 37,
   "metadata": {},
   "outputs": [
    {
     "name": "stdout",
     "output_type": "stream",
     "text": [
      "The accuracy of the logistic_regression model is: 0.94 \n",
      "[[  0  17]\n",
      " [  0 270]]\n"
     ]
    },
    {
     "data": {
      "image/png": "[encoded data removed]",
      "text/plain": [
       "<Figure size 432x288 with 2 Axes>"
      ]
     },
     "metadata": {
      "needs_background": "light"
     },
     "output_type": "display_data"
    },
    {
     "name": "stdout",
     "output_type": "stream",
     "text": [
      "The Kappa of your model is: 0.00\n",
      "              precision    recall  f1-score   support\n",
      "\n",
      "         YES       0.94      1.00      0.97       270\n",
      "          NO       0.00      0.00      0.00        17\n",
      "\n",
      "    accuracy                           0.94       287\n",
      "   macro avg       0.47      0.50      0.48       287\n",
      "weighted avg       0.89      0.94      0.91       287\n",
      "\n"
     ]
    },
    {
     "name": "stderr",
     "output_type": "stream",
     "text": [
      "/home/annast/.local/lib/python3.8/site-packages/sklearn/metrics/_classification.py:1221: UndefinedMetricWarning: Precision and F-score are ill-defined and being set to 0.0 in labels with no predicted samples. Use `zero_division` parameter to control this behavior.\n",
      "  _warn_prf(average, modifier, msg_start, len(result))\n"
     ]
    }
   ],
   "source": [
    "X_train, X_test, y_train, y_test = train_test_split(X_independent, y_dependent, test_size=0.3, random_state = 100)\n",
    "classification = LogisticRegression(random_state=0, solver='lbfgs',  max_iter=500).fit(X_train, y_train)\n",
    "y_pred = classification.predict(X_test)\n",
    "print(\"The accuracy of the logistic_regression model is: %4.2f \"% (classification.score(X_test, y_test)))\n",
    "print(confusion_matrix(y_test, y_pred))\n",
    "plot_confusion_matrix(classification, X_test, y_test)  # doctest: +SKIP\n",
    "plt.show()  # doctest: +SKIP\n",
    "print(\"The Kappa of your model is: %4.2f\" % (cohen_kappa_score(y_test, y_pred)))\n",
    "print(classification_report(y_test, y_pred, labels=['YES','NO']))"
   ]
  },
  {
   "cell_type": "markdown",
   "metadata": {},
   "source": [
    "#### The model is still bad :) \n",
    "#### But that is all only because of data imbalance then!"
   ]
  },
  {
   "cell_type": "markdown",
   "metadata": {},
   "source": [
    "### 2) SMOTE oversampling"
   ]
  },
  {
   "cell_type": "code",
   "execution_count": 33,
   "metadata": {},
   "outputs": [
    {
     "name": "stdout",
     "output_type": "stream",
     "text": [
      "Counter({'YES': 897, 'NO': 897})\n"
     ]
    }
   ],
   "source": [
    "oversample = SMOTE()\n",
    "transformer = StandardScaler().fit(X_independent)\n",
    "Scaled_X = transformer.transform(X_independent)\n",
    "X, y = oversample.fit_resample(X_independent, y_dependent)\n",
    "counter = Counter(y)\n",
    "print(counter)"
   ]
  },
  {
   "cell_type": "code",
   "execution_count": 36,
   "metadata": {},
   "outputs": [
    {
     "name": "stdout",
     "output_type": "stream",
     "text": [
      "The accuracy of the logistic_regression model is: 0.94 \n",
      "[[256  11]\n",
      " [ 22 250]]\n"
     ]
    },
    {
     "data": {
      "image/png": "[encoded data removed]",
      "text/plain": [
       "<Figure size 432x288 with 2 Axes>"
      ]
     },
     "metadata": {
      "needs_background": "light"
     },
     "output_type": "display_data"
    },
    {
     "name": "stdout",
     "output_type": "stream",
     "text": [
      "The Kappa of your model is: 0.88\n",
      "              precision    recall  f1-score   support\n",
      "\n",
      "         YES       0.96      0.92      0.94       272\n",
      "          NO       0.92      0.96      0.94       267\n",
      "\n",
      "    accuracy                           0.94       539\n",
      "   macro avg       0.94      0.94      0.94       539\n",
      "weighted avg       0.94      0.94      0.94       539\n",
      "\n"
     ]
    }
   ],
   "source": [
    "X_train, X_test, y_train, y_test = train_test_split(X, y, test_size=0.3, random_state = 100)\n",
    "classification = LogisticRegression(random_state=0, solver='lbfgs',  max_iter=500).fit(X_train, y_train)\n",
    "y_pred = classification.predict(X_test)\n",
    "print(\"The accuracy of the logistic_regression model is: %4.2f \"% (classification.score(X_test, y_test)))\n",
    "print(confusion_matrix(y_test, y_pred))\n",
    "plot_confusion_matrix(classification, X_test, y_test)  # doctest: +SKIP\n",
    "plt.show()  # doctest: +SKIP\n",
    "print(\"The Kappa of your model is: %4.2f\" % (cohen_kappa_score(y_test, y_pred)))\n",
    "print(classification_report(y_test, y_pred, labels=['YES','NO']))"
   ]
  },
  {
   "cell_type": "markdown",
   "metadata": {},
   "source": [
    "### WOW! The recall and kappa-score are amaxing now! SMOTE oversampling really facilitated the ability of the model to predict the minority class."
   ]
  }
 ],
 "metadata": {
  "kernelspec": {
   "display_name": "Python 3",
   "language": "python",
   "name": "python3"
  },
  "language_info": {
   "codemirror_mode": {
    "name": "ipython",
    "version": 3
   },
   "file_extension": ".py",
   "mimetype": "text/x-python",
   "name": "python",
   "nbconvert_exporter": "python",
   "pygments_lexer": "ipython3",
   "version": "3.8.2"
  }
 },
 "nbformat": 4,
 "nbformat_minor": 4
}
